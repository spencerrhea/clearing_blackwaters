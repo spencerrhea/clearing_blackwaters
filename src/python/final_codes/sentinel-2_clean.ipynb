{
 "cells": [
  {
   "cell_type": "code",
   "execution_count": 15,
   "metadata": {},
   "outputs": [
    {
     "data": {
      "text/html": [
       "\n",
       "            <style>\n",
       "                .geemap-dark {\n",
       "                    --jp-widgets-color: white;\n",
       "                    --jp-widgets-label-color: white;\n",
       "                    --jp-ui-font-color1: white;\n",
       "                    --jp-layout-color2: #454545;\n",
       "                    background-color: #383838;\n",
       "                }\n",
       "\n",
       "                .geemap-dark .jupyter-button {\n",
       "                    --jp-layout-color3: #383838;\n",
       "                }\n",
       "\n",
       "                .geemap-colab {\n",
       "                    background-color: var(--colab-primary-surface-color, white);\n",
       "                }\n",
       "\n",
       "                .geemap-colab .jupyter-button {\n",
       "                    --jp-layout-color3: var(--colab-primary-surface-color, white);\n",
       "                }\n",
       "            </style>\n",
       "            "
      ],
      "text/plain": [
       "<IPython.core.display.HTML object>"
      ]
     },
     "metadata": {},
     "output_type": "display_data"
    }
   ],
   "source": [
    "# Load libraries\n",
    "import time\n",
    "import ee\n",
    "import geemap\n",
    "import os\n",
    "import numpy\n",
    "import pandas as pd\n",
    "import ee.mapclient\n",
    "import pyarrow as pa\n",
    "from datetime import datetime"
   ]
  },
  {
   "cell_type": "code",
   "execution_count": 16,
   "metadata": {},
   "outputs": [
    {
     "data": {
      "text/html": [
       "\n",
       "            <style>\n",
       "                .geemap-dark {\n",
       "                    --jp-widgets-color: white;\n",
       "                    --jp-widgets-label-color: white;\n",
       "                    --jp-ui-font-color1: white;\n",
       "                    --jp-layout-color2: #454545;\n",
       "                    background-color: #383838;\n",
       "                }\n",
       "\n",
       "                .geemap-dark .jupyter-button {\n",
       "                    --jp-layout-color3: #383838;\n",
       "                }\n",
       "\n",
       "                .geemap-colab {\n",
       "                    background-color: var(--colab-primary-surface-color, white);\n",
       "                }\n",
       "\n",
       "                .geemap-colab .jupyter-button {\n",
       "                    --jp-layout-color3: var(--colab-primary-surface-color, white);\n",
       "                }\n",
       "            </style>\n",
       "            "
      ],
      "text/plain": [
       "<IPython.core.display.HTML object>"
      ]
     },
     "metadata": {},
     "output_type": "display_data"
    }
   ],
   "source": [
    "# Connect to GEE\n",
    "ee.Authenticate()\n",
    "ee.Initialize(project = 'clearing-blackwaters')\n",
    "\n",
    "# Load in Sentinel datasets\n",
    "sent = ee.ImageCollection(\"COPERNICUS/S2_SR_HARMONIZED\")\n",
    "\n",
    "# Standardize band names between the various collections and aggregate them into one image collection\n",
    "bn = ['B2', 'B3', 'B4', 'B8', 'B11', 'B12', 'QA60']\n",
    "bns = ['Blue', 'Green', 'Red', 'Nir', 'Swir1', 'Swir2', 'QA60']\n",
    "\n",
    "sent2 = sent.select(bn, bns)\n",
    "\n",
    "# Set cloud cover threshold\n",
    "sentinel = sent2 \\\n",
    ".filter(ee.Filter.lt('CLOUDY_PIXEL_PERCENTAGE', 50)) \\\n",
    "\n",
    "# Load in flowline of interest\n",
    "all_flowlines = ee.data.listAssets({\"parent\": \"projects/clearing-blackwaters/assets\"})\n",
    "\n",
    "# Get flowline ids\n",
    "flowlinesID = []\n",
    "for x in range(0, len(all_flowlines['assets'])):\n",
    "    flowline_id = all_flowlines['assets'][x]['id']\n",
    "    flowlinesID.append(flowline_id)\n",
    "\n",
    "# Function to buffer each feature\n",
    "def buffer_feature(feature):\n",
    "    return feature.buffer(100, 10)\n",
    "\n",
    "# Cloud mask\n",
    "def cloud_mask(image):\n",
    "    qa = image.select('QA60')\n",
    "\n",
    "    # Bits 10 and 11 are clouds and cirrus, respectively.\n",
    "    cloud_bit_mask = 1 << 10\n",
    "    cirrus_bit_mask = 1 << 11\n",
    "\n",
    "    # Both flags should be set to zero, indicating clear conditions.\n",
    "    mask = (\n",
    "        qa.bitwiseAnd(cloud_bit_mask)\n",
    "        .eq(0)\n",
    "        .And(qa.bitwiseAnd(cirrus_bit_mask).eq(0))\n",
    "    )\n",
    "  \n",
    "    return image.updateMask(mask).divide(10000)"
   ]
  },
  {
   "cell_type": "code",
   "execution_count": null,
   "metadata": {},
   "outputs": [
    {
     "data": {
      "text/html": [
       "\n",
       "            <style>\n",
       "                .geemap-dark {\n",
       "                    --jp-widgets-color: white;\n",
       "                    --jp-widgets-label-color: white;\n",
       "                    --jp-ui-font-color1: white;\n",
       "                    --jp-layout-color2: #454545;\n",
       "                    background-color: #383838;\n",
       "                }\n",
       "\n",
       "                .geemap-dark .jupyter-button {\n",
       "                    --jp-layout-color3: #383838;\n",
       "                }\n",
       "\n",
       "                .geemap-colab {\n",
       "                    background-color: var(--colab-primary-surface-color, white);\n",
       "                }\n",
       "\n",
       "                .geemap-colab .jupyter-button {\n",
       "                    --jp-layout-color3: var(--colab-primary-surface-color, white);\n",
       "                }\n",
       "            </style>\n",
       "            "
      ],
      "text/plain": [
       "<IPython.core.display.HTML object>"
      ]
     },
     "metadata": {},
     "output_type": "display_data"
    }
   ],
   "source": [
    "# Loops through every 2 weeks until current time\n",
    "\n",
    "errors = list()\n",
    "\n",
    "for i in range(0, len(flowlinesID)): \n",
    "\n",
    "    # Select individual flowline\n",
    "    flowline = ee.FeatureCollection(flowlinesID[i])\n",
    "\n",
    "    # Get all comids \n",
    "    flowline_comids = flowline.aggregate_array('comid').getInfo()\n",
    "    \n",
    "    # Loop through comids \n",
    "    for x in range(0, len(flowline_comids)): \n",
    "        \n",
    "        # get individual comid\n",
    "        flowline_fc = flowline.filter(ee.Filter.eq('comid', flowline_comids[x]))\n",
    " \n",
    "        # Map the buffer function over the collection\n",
    "        this_line = flowline_fc.map(buffer_feature)\n",
    "\n",
    "        count = 1\n",
    "        date = ee.Date(\"2019-01-01\")\n",
    "        while (ee.Date(datetime.now()).millis()).gte(date.advance(2, \"week\").millis()).getInfo() == 1: \n",
    "            \n",
    "            # Filter Sentinel image to comid \n",
    "            sentinel_masked = sentinel.filterDate(date, date.advance(13, \"days\")).filterBounds(this_line).map(cloud_mask)\n",
    "                  \n",
    "            # Pull data for image\n",
    "            try: \n",
    "                data = sentinel_masked.getRegion(this_line, 10)\n",
    "                keys = ee.List(data.get(0)).getInfo()\n",
    "                data_info = data.getInfo() \n",
    "\n",
    "                # Change save directory as needed\n",
    "                save_path = \"D:/dwz6/Documents/sentinel2_data/\" + str(flowline_comids[x]) + \" (\" + str(count) + \").feather\"\n",
    "                \n",
    "                df = pd.DataFrame(data_info[1:len(data_info)], columns = keys)\n",
    "                df['SWM'] = (df['Blue'] + df['Green']) / (df['Nir'] + df['Swir1'])\n",
    "                df.to_feather(save_path)\n",
    "            except: \n",
    "                # Print errors and add to list\n",
    "                error_comid = \"comid: \" + str(flowline_comids[x]) + \" (\" + str(count) + \") (asset: \" + str(flowlinesID[i]) + \")\"\n",
    "                errors.append(error_comid)\n",
    "\n",
    "            date = date.advance(2, \"week\")\n",
    "            count += 1"
   ]
  }
 ],
 "metadata": {
  "kernelspec": {
   "display_name": ".venv",
   "language": "python",
   "name": "python3"
  },
  "language_info": {
   "codemirror_mode": {
    "name": "ipython",
    "version": 3
   },
   "file_extension": ".py",
   "mimetype": "text/x-python",
   "name": "python",
   "nbconvert_exporter": "python",
   "pygments_lexer": "ipython3",
   "version": "3.12.3"
  }
 },
 "nbformat": 4,
 "nbformat_minor": 2
}
